{
 "cells": [
  {
   "cell_type": "code",
   "execution_count": 1,
   "metadata": {},
   "outputs": [],
   "source": [
    "from pyspark.sql import SparkSession\n",
    "from random import randint\n",
    "from pyspark.sql.types import IntegerType, StructField, StructType\n",
    "import pyspark.sql.functions as F\n",
    "from tensorflow.keras.utils import to_categorical\n",
    "from tensorflow.keras.models import Sequential\n",
    "from keras.layers import Dense\n",
    "import numpy as np\n",
    "#from sklearn.model_selection import train_test_split"
   ]
  },
  {
   "cell_type": "code",
   "execution_count": 2,
   "metadata": {},
   "outputs": [],
   "source": [
    "import os\n",
    "import sys\n",
    "\n",
    "os.environ['PYSPARK_PYTHON'] = sys.executable"
   ]
  },
  {
   "cell_type": "code",
   "execution_count": 3,
   "metadata": {},
   "outputs": [],
   "source": [
    "spark = SparkSession.builder.appName('SparkTitanic.com').getOrCreate()"
   ]
  },
  {
   "cell_type": "markdown",
   "metadata": {},
   "source": [
    "Reading the data"
   ]
  },
  {
   "cell_type": "code",
   "execution_count": 4,
   "metadata": {},
   "outputs": [],
   "source": [
    "train_df = spark.read.option(\"inferSchema\", True)\\\n",
    "    .option(\"header\", True)\\\n",
    "    .csv('./input/titanic/train.csv')"
   ]
  },
  {
   "cell_type": "markdown",
   "metadata": {},
   "source": [
    "Cleaning the data"
   ]
  },
  {
   "cell_type": "code",
   "execution_count": 5,
   "metadata": {},
   "outputs": [],
   "source": [
    "train_df = train_df.select(\"Sex\", \"Age\", \"Survived\")\n",
    "train_df = train_df.where(train_df[\"Age\"].isNotNull())\n",
    "train_df = train_df.where(train_df[\"Sex\"].isNotNull())\n",
    "train_df = train_df.where(train_df[\"Survived\"].isNotNull())\n",
    "train_df = train_df.withColumn(\"Sex\", F.when(F.col(\"Sex\")==F.lit(\"male\"), 0.).otherwise(1.) )"
   ]
  },
  {
   "cell_type": "markdown",
   "metadata": {},
   "source": [
    "models"
   ]
  },
  {
   "cell_type": "code",
   "execution_count": 6,
   "metadata": {},
   "outputs": [
    {
     "data": {
      "text/plain": [
       "<keras.callbacks.History at 0x7f97801554d0>"
      ]
     },
     "execution_count": 6,
     "metadata": {},
     "output_type": "execute_result"
    }
   ],
   "source": [
    "x_train = list(map(lambda x: list(x), train_df.select(\"Sex\", \"Age\").collect()))\n",
    "x_train = np.array([[x[0]*0.5, x[1]*0.01] for x in x_train])\n",
    "y_train = list(map(lambda x: list(x)[0], train_df.select(\"Survived\").collect()))\n",
    "y_train = to_categorical(y_train,2)\n",
    "#x_train, x_test, y_train, y_test = train_test_split(x_train, y_train, test_size=0.30, random_state=40)\n",
    "model = Sequential()\n",
    "model.add(Dense(32, input_dim=2, activation='tanh'))\n",
    "model.add(Dense(2, activation='softmax'))\n",
    "model.compile(loss='binary_crossentropy', optimizer='rmsprop', metrics=['accuracy'])\n",
    "model.fit(x_train, y_train, batch_size=5, epochs=12, shuffle=True, verbose=0)\n",
    "#score = model.evaluate(x_test, y_test, batch_size=20, verbose=0)\n",
    "#print(score)"
   ]
  },
  {
   "cell_type": "markdown",
   "metadata": {},
   "source": [
    "Prediction"
   ]
  },
  {
   "cell_type": "code",
   "execution_count": 7,
   "metadata": {},
   "outputs": [],
   "source": [
    "def prediction(row):\n",
    "    if row.Sex == 'female':\n",
    "        Sex = 1.\n",
    "    elif row.Sex == 'male':\n",
    "        Sex = 0.\n",
    "    else:\n",
    "        Sex = randint(0,1)*1.\n",
    "    Age = row.Age\n",
    "    if Age == None:\n",
    "        Age = randint(0,100)\n",
    "    Age = Age*0.01  \n",
    "    p = model.predict([ [Sex, Age] ])[0]\n",
    "    return int(np.argmax(p))"
   ]
  },
  {
   "cell_type": "code",
   "execution_count": 8,
   "metadata": {},
   "outputs": [],
   "source": [
    "test_df = spark.read.option(\"inferSchema\", True)\\\n",
    "    .option(\"header\", True)\\\n",
    "    .csv('./input/titanic/test.csv')"
   ]
  },
  {
   "cell_type": "code",
   "execution_count": 9,
   "metadata": {},
   "outputs": [],
   "source": [
    "output_df = spark.createDataFrame(spark.sparkContext.parallelize([]), StructType([\n",
    "    StructField('PassengerId', IntegerType(), True),\n",
    "    StructField('Survived', IntegerType(), True)\n",
    "]))"
   ]
  },
  {
   "cell_type": "code",
   "execution_count": 10,
   "metadata": {},
   "outputs": [],
   "source": [
    "for row in test_df.collect():\n",
    "    output_df = output_df.union( spark.sparkContext.parallelize([(row.PassengerId, prediction(row) )]).toDF(['PassengerId', 'Survived']) )"
   ]
  },
  {
   "cell_type": "markdown",
   "metadata": {},
   "source": [
    "Output"
   ]
  },
  {
   "cell_type": "code",
   "execution_count": null,
   "metadata": {},
   "outputs": [],
   "source": [
    "output_df.toPandas().to_csv('./componentA.csv', index=False)"
   ]
  },
  {
   "cell_type": "code",
   "execution_count": null,
   "metadata": {},
   "outputs": [],
   "source": []
  }
 ],
 "metadata": {
  "interpreter": {
   "hash": "5a6ca2cce8f356657e156b14f90a398073c8cb20ef4c4c6a4e9a41bb43d2ba10"
  },
  "kernelspec": {
   "display_name": "Python 3.7.10 64-bit ('py37': conda)",
   "language": "python",
   "name": "python3"
  },
  "language_info": {
   "codemirror_mode": {
    "name": "ipython",
    "version": 3
   },
   "file_extension": ".py",
   "mimetype": "text/x-python",
   "name": "python",
   "nbconvert_exporter": "python",
   "pygments_lexer": "ipython3",
   "version": "3.7.10"
  },
  "orig_nbformat": 4
 },
 "nbformat": 4,
 "nbformat_minor": 2
}
