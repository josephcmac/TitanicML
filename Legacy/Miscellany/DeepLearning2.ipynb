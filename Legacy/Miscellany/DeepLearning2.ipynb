{
 "cells": [
  {
   "cell_type": "code",
   "execution_count": 1,
   "metadata": {},
   "outputs": [],
   "source": [
    "from pyspark.sql import SparkSession\n",
    "from random import randint\n",
    "from pyspark.sql.types import IntegerType, StructField, StructType\n",
    "import pyspark.sql.functions as F\n",
    "from tensorflow.keras.utils import to_categorical\n",
    "from keras.models import Sequential\n",
    "from keras.layers import Dense, BatchNormalization\n",
    "from keras.layers.advanced_activations import LeakyReLU\n",
    "import numpy as np"
   ]
  },
  {
   "cell_type": "code",
   "execution_count": 2,
   "metadata": {},
   "outputs": [],
   "source": [
    "import os\n",
    "import sys\n",
    "\n",
    "os.environ['PYSPARK_PYTHON'] = sys.executable"
   ]
  },
  {
   "cell_type": "code",
   "execution_count": 3,
   "metadata": {},
   "outputs": [],
   "source": [
    "spark = SparkSession.builder.appName('SparkTitanic.com').getOrCreate()"
   ]
  },
  {
   "cell_type": "markdown",
   "metadata": {},
   "source": [
    "Reading the data"
   ]
  },
  {
   "cell_type": "code",
   "execution_count": 4,
   "metadata": {},
   "outputs": [],
   "source": [
    "train_df = spark.read.option(\"inferSchema\", True)\\\n",
    "    .option(\"header\", True)\\\n",
    "    .csv('./input/titanic/train.csv')\n",
    "    #for production: '../input/titanic/train.csv'"
   ]
  },
  {
   "cell_type": "markdown",
   "metadata": {},
   "source": [
    "Cleaning the data"
   ]
  },
  {
   "cell_type": "code",
   "execution_count": 5,
   "metadata": {},
   "outputs": [],
   "source": [
    "train_df = train_df.select(\"Sex\", \"Age\", \"Survived\")"
   ]
  },
  {
   "cell_type": "code",
   "execution_count": 6,
   "metadata": {},
   "outputs": [],
   "source": [
    "train_df = train_df.where(train_df[\"Age\"].isNotNull())"
   ]
  },
  {
   "cell_type": "code",
   "execution_count": 7,
   "metadata": {},
   "outputs": [],
   "source": [
    "train_df = train_df.where(train_df[\"Sex\"].isNotNull())"
   ]
  },
  {
   "cell_type": "code",
   "execution_count": 8,
   "metadata": {},
   "outputs": [],
   "source": [
    "train_df = train_df.where(train_df[\"Survived\"].isNotNull())"
   ]
  },
  {
   "cell_type": "code",
   "execution_count": 9,
   "metadata": {},
   "outputs": [],
   "source": [
    "train_df = train_df.withColumn(\"Sex\", F.when(F.col(\"Sex\")==F.lit(\"male\"), 0.).otherwise(1.) )"
   ]
  },
  {
   "cell_type": "code",
   "execution_count": 10,
   "metadata": {},
   "outputs": [],
   "source": [
    "x_train = list(map(lambda x: list(x), train_df.select(\"Sex\", \"Age\").collect()))\n",
    "y_train = list(map(lambda x: list(x)[0], train_df.select(\"Survived\").collect()))\n"
   ]
  },
  {
   "cell_type": "code",
   "execution_count": 11,
   "metadata": {},
   "outputs": [],
   "source": [
    "del(train_df)"
   ]
  },
  {
   "cell_type": "code",
   "execution_count": 12,
   "metadata": {},
   "outputs": [],
   "source": [
    "x_train = np.array([[x[0], x[1]*0.01] for x in x_train], dtype=\"float32\")\n",
    "#normalization"
   ]
  },
  {
   "cell_type": "code",
   "execution_count": 13,
   "metadata": {},
   "outputs": [],
   "source": [
    "y_train = to_categorical(y_train,2)"
   ]
  },
  {
   "cell_type": "markdown",
   "metadata": {},
   "source": [
    "Training"
   ]
  },
  {
   "cell_type": "code",
   "execution_count": 14,
   "metadata": {},
   "outputs": [],
   "source": [
    "model = Sequential()"
   ]
  },
  {
   "cell_type": "code",
   "execution_count": 15,
   "metadata": {},
   "outputs": [],
   "source": [
    "model.add(Dense(128, input_dim = 2))"
   ]
  },
  {
   "cell_type": "code",
   "execution_count": 16,
   "metadata": {},
   "outputs": [],
   "source": [
    "model.add(Dense(2084, activation='tanh'))"
   ]
  },
  {
   "cell_type": "code",
   "execution_count": 17,
   "metadata": {},
   "outputs": [],
   "source": [
    "model.add(BatchNormalization(momentum=0.8))"
   ]
  },
  {
   "cell_type": "code",
   "execution_count": 18,
   "metadata": {},
   "outputs": [],
   "source": [
    "model.add(Dense(128))"
   ]
  },
  {
   "cell_type": "code",
   "execution_count": 19,
   "metadata": {},
   "outputs": [],
   "source": [
    "model.add(Dense(2084, activation='tanh'))"
   ]
  },
  {
   "cell_type": "code",
   "execution_count": 20,
   "metadata": {},
   "outputs": [],
   "source": [
    "model.add(BatchNormalization(momentum=0.8))"
   ]
  },
  {
   "cell_type": "code",
   "execution_count": 21,
   "metadata": {},
   "outputs": [],
   "source": [
    "model.add(Dense(128, activation='tanh'))"
   ]
  },
  {
   "cell_type": "code",
   "execution_count": 22,
   "metadata": {},
   "outputs": [],
   "source": [
    "model.add(Dense(512, activation='tanh'))"
   ]
  },
  {
   "cell_type": "code",
   "execution_count": 23,
   "metadata": {},
   "outputs": [],
   "source": [
    "model.add(BatchNormalization(momentum=0.8))"
   ]
  },
  {
   "cell_type": "code",
   "execution_count": 24,
   "metadata": {},
   "outputs": [],
   "source": [
    "model.add(Dense(128, activation='tanh'))"
   ]
  },
  {
   "cell_type": "code",
   "execution_count": 25,
   "metadata": {},
   "outputs": [],
   "source": [
    "model.add(Dense(2))"
   ]
  },
  {
   "cell_type": "code",
   "execution_count": 26,
   "metadata": {},
   "outputs": [],
   "source": [
    "model.compile(loss='binary_crossentropy', optimizer='adam', metrics=['accuracy'])"
   ]
  },
  {
   "cell_type": "code",
   "execution_count": 27,
   "metadata": {},
   "outputs": [
    {
     "name": "stdout",
     "output_type": "stream",
     "text": [
      "Epoch 1/150\n",
      "2/2 [==============================] - 1s 16ms/step - loss: 6.7814 - accuracy: 0.4048\n",
      "Epoch 2/150\n",
      "2/2 [==============================] - 0s 17ms/step - loss: 4.9596 - accuracy: 0.6933\n",
      "Epoch 3/150\n",
      "2/2 [==============================] - 0s 15ms/step - loss: 4.1378 - accuracy: 0.7003\n",
      "Epoch 4/150\n",
      "2/2 [==============================] - 0s 15ms/step - loss: 3.6740 - accuracy: 0.7437\n",
      "Epoch 5/150\n",
      "2/2 [==============================] - 0s 18ms/step - loss: 3.4244 - accuracy: 0.7759\n",
      "Epoch 6/150\n",
      "2/2 [==============================] - 0s 16ms/step - loss: 3.3724 - accuracy: 0.7801\n",
      "Epoch 7/150\n",
      "2/2 [==============================] - 0s 20ms/step - loss: 3.3724 - accuracy: 0.7801\n",
      "Epoch 8/150\n",
      "2/2 [==============================] - 0s 17ms/step - loss: 3.3724 - accuracy: 0.7801\n",
      "Epoch 9/150\n",
      "2/2 [==============================] - 0s 15ms/step - loss: 3.3724 - accuracy: 0.7801\n",
      "Epoch 10/150\n",
      "2/2 [==============================] - 0s 17ms/step - loss: 3.3724 - accuracy: 0.7801\n",
      "Epoch 11/150\n",
      "2/2 [==============================] - 0s 17ms/step - loss: 3.2836 - accuracy: 0.7801\n",
      "Epoch 12/150\n",
      "2/2 [==============================] - 0s 17ms/step - loss: 3.2811 - accuracy: 0.7857\n",
      "Epoch 13/150\n",
      "2/2 [==============================] - 0s 17ms/step - loss: 3.3432 - accuracy: 0.7927\n",
      "Epoch 14/150\n",
      "2/2 [==============================] - 0s 17ms/step - loss: 3.3045 - accuracy: 0.7899\n",
      "Epoch 15/150\n",
      "2/2 [==============================] - 0s 17ms/step - loss: 3.2858 - accuracy: 0.7871\n",
      "Epoch 16/150\n",
      "2/2 [==============================] - 0s 18ms/step - loss: 3.2365 - accuracy: 0.7913\n",
      "Epoch 17/150\n",
      "2/2 [==============================] - 0s 18ms/step - loss: 3.2473 - accuracy: 0.7857\n",
      "Epoch 18/150\n",
      "2/2 [==============================] - 0s 17ms/step - loss: 3.2477 - accuracy: 0.7871\n",
      "Epoch 19/150\n",
      "2/2 [==============================] - 0s 16ms/step - loss: 3.2324 - accuracy: 0.7843\n",
      "Epoch 20/150\n",
      "2/2 [==============================] - 0s 19ms/step - loss: 3.2464 - accuracy: 0.7871\n",
      "Epoch 21/150\n",
      "2/2 [==============================] - 0s 18ms/step - loss: 3.1670 - accuracy: 0.7913\n",
      "Epoch 22/150\n",
      "2/2 [==============================] - 0s 17ms/step - loss: 3.9565 - accuracy: 0.7381\n",
      "Epoch 23/150\n",
      "2/2 [==============================] - 0s 17ms/step - loss: 5.1148 - accuracy: 0.6303\n",
      "Epoch 24/150\n",
      "2/2 [==============================] - 0s 16ms/step - loss: 5.0392 - accuracy: 0.7199\n",
      "Epoch 25/150\n",
      "2/2 [==============================] - 0s 17ms/step - loss: 4.8031 - accuracy: 0.7759\n",
      "Epoch 26/150\n",
      "2/2 [==============================] - 0s 16ms/step - loss: 4.2362 - accuracy: 0.7857\n",
      "Epoch 27/150\n",
      "2/2 [==============================] - 0s 18ms/step - loss: 3.4342 - accuracy: 0.7857\n",
      "Epoch 28/150\n",
      "2/2 [==============================] - 0s 21ms/step - loss: 3.3530 - accuracy: 0.7829\n",
      "Epoch 29/150\n",
      "2/2 [==============================] - 0s 18ms/step - loss: 3.3724 - accuracy: 0.7801\n",
      "Epoch 30/150\n",
      "2/2 [==============================] - 0s 16ms/step - loss: 3.3724 - accuracy: 0.7801\n",
      "Epoch 31/150\n",
      "2/2 [==============================] - 0s 15ms/step - loss: 3.3728 - accuracy: 0.7801\n",
      "Epoch 32/150\n",
      "2/2 [==============================] - 0s 18ms/step - loss: 3.3641 - accuracy: 0.7801\n",
      "Epoch 33/150\n",
      "2/2 [==============================] - 0s 18ms/step - loss: 3.3886 - accuracy: 0.7801\n",
      "Epoch 34/150\n",
      "2/2 [==============================] - 0s 17ms/step - loss: 3.3626 - accuracy: 0.7801\n",
      "Epoch 35/150\n",
      "2/2 [==============================] - 0s 16ms/step - loss: 3.3724 - accuracy: 0.7801\n",
      "Epoch 36/150\n",
      "2/2 [==============================] - 0s 17ms/step - loss: 3.3724 - accuracy: 0.7801\n",
      "Epoch 37/150\n",
      "2/2 [==============================] - 0s 18ms/step - loss: 3.3724 - accuracy: 0.7801\n",
      "Epoch 38/150\n",
      "2/2 [==============================] - 0s 16ms/step - loss: 3.3724 - accuracy: 0.7801\n",
      "Epoch 39/150\n",
      "2/2 [==============================] - 0s 16ms/step - loss: 3.3724 - accuracy: 0.7801\n",
      "Epoch 40/150\n",
      "2/2 [==============================] - 0s 16ms/step - loss: 3.3724 - accuracy: 0.7801\n",
      "Epoch 41/150\n",
      "2/2 [==============================] - 0s 19ms/step - loss: 3.3724 - accuracy: 0.7801\n",
      "Epoch 42/150\n",
      "2/2 [==============================] - 0s 18ms/step - loss: 3.3724 - accuracy: 0.7801\n",
      "Epoch 43/150\n",
      "2/2 [==============================] - 0s 17ms/step - loss: 3.3724 - accuracy: 0.7801\n",
      "Epoch 44/150\n",
      "2/2 [==============================] - 0s 17ms/step - loss: 3.3724 - accuracy: 0.7801\n",
      "Epoch 45/150\n",
      "2/2 [==============================] - 0s 17ms/step - loss: 3.3724 - accuracy: 0.7801\n",
      "Epoch 46/150\n",
      "2/2 [==============================] - 0s 19ms/step - loss: 3.3724 - accuracy: 0.7801\n",
      "Epoch 47/150\n",
      "2/2 [==============================] - 0s 17ms/step - loss: 3.3724 - accuracy: 0.7801\n",
      "Epoch 48/150\n",
      "2/2 [==============================] - 0s 17ms/step - loss: 3.3724 - accuracy: 0.7801\n",
      "Epoch 49/150\n",
      "2/2 [==============================] - 0s 17ms/step - loss: 3.3724 - accuracy: 0.7801\n",
      "Epoch 50/150\n",
      "2/2 [==============================] - 0s 18ms/step - loss: 3.3724 - accuracy: 0.7801\n",
      "Epoch 51/150\n",
      "2/2 [==============================] - 0s 19ms/step - loss: 3.3724 - accuracy: 0.7801\n",
      "Epoch 52/150\n",
      "2/2 [==============================] - 0s 16ms/step - loss: 3.3724 - accuracy: 0.7801\n",
      "Epoch 53/150\n",
      "2/2 [==============================] - 0s 17ms/step - loss: 3.3724 - accuracy: 0.7801\n",
      "Epoch 54/150\n",
      "2/2 [==============================] - 0s 16ms/step - loss: 3.3724 - accuracy: 0.7801\n",
      "Epoch 55/150\n",
      "2/2 [==============================] - 0s 16ms/step - loss: 3.3724 - accuracy: 0.7801\n",
      "Epoch 56/150\n",
      "2/2 [==============================] - 0s 16ms/step - loss: 3.3724 - accuracy: 0.7801\n",
      "Epoch 57/150\n",
      "2/2 [==============================] - 0s 16ms/step - loss: 3.3724 - accuracy: 0.7801\n",
      "Epoch 58/150\n",
      "2/2 [==============================] - 0s 17ms/step - loss: 3.3724 - accuracy: 0.7801\n",
      "Epoch 59/150\n",
      "2/2 [==============================] - 0s 19ms/step - loss: 3.3724 - accuracy: 0.7801\n",
      "Epoch 60/150\n",
      "2/2 [==============================] - 0s 17ms/step - loss: 3.3724 - accuracy: 0.7801\n",
      "Epoch 61/150\n",
      "2/2 [==============================] - 0s 19ms/step - loss: 3.3724 - accuracy: 0.7801\n",
      "Epoch 62/150\n",
      "2/2 [==============================] - 0s 18ms/step - loss: 3.3724 - accuracy: 0.7801\n",
      "Epoch 63/150\n",
      "2/2 [==============================] - 0s 16ms/step - loss: 3.3724 - accuracy: 0.7801\n",
      "Epoch 64/150\n",
      "2/2 [==============================] - 0s 17ms/step - loss: 3.3724 - accuracy: 0.7801\n",
      "Epoch 65/150\n",
      "2/2 [==============================] - 0s 16ms/step - loss: 3.3724 - accuracy: 0.7801\n",
      "Epoch 66/150\n",
      "2/2 [==============================] - 0s 18ms/step - loss: 3.3724 - accuracy: 0.7801\n",
      "Epoch 67/150\n",
      "2/2 [==============================] - 0s 17ms/step - loss: 3.3724 - accuracy: 0.7801\n",
      "Epoch 68/150\n",
      "2/2 [==============================] - 0s 16ms/step - loss: 3.3724 - accuracy: 0.7801\n",
      "Epoch 69/150\n",
      "2/2 [==============================] - 0s 15ms/step - loss: 3.3724 - accuracy: 0.7801\n",
      "Epoch 70/150\n",
      "2/2 [==============================] - 0s 17ms/step - loss: 3.3724 - accuracy: 0.7801\n",
      "Epoch 71/150\n",
      "2/2 [==============================] - 0s 16ms/step - loss: 3.3724 - accuracy: 0.7801\n",
      "Epoch 72/150\n",
      "2/2 [==============================] - 0s 16ms/step - loss: 3.3724 - accuracy: 0.7801\n",
      "Epoch 73/150\n",
      "2/2 [==============================] - 0s 18ms/step - loss: 3.3724 - accuracy: 0.7801\n",
      "Epoch 74/150\n",
      "2/2 [==============================] - 0s 17ms/step - loss: 3.3724 - accuracy: 0.7801\n",
      "Epoch 75/150\n",
      "2/2 [==============================] - 0s 17ms/step - loss: 3.3724 - accuracy: 0.7801\n",
      "Epoch 76/150\n",
      "2/2 [==============================] - 0s 15ms/step - loss: 3.3724 - accuracy: 0.7801\n",
      "Epoch 77/150\n",
      "2/2 [==============================] - 0s 16ms/step - loss: 3.3724 - accuracy: 0.7801\n",
      "Epoch 78/150\n",
      "2/2 [==============================] - 0s 18ms/step - loss: 3.3724 - accuracy: 0.7801\n",
      "Epoch 79/150\n",
      "2/2 [==============================] - 0s 16ms/step - loss: 3.3724 - accuracy: 0.7801\n",
      "Epoch 80/150\n",
      "2/2 [==============================] - 0s 17ms/step - loss: 3.3724 - accuracy: 0.7801\n",
      "Epoch 81/150\n",
      "2/2 [==============================] - 0s 17ms/step - loss: 3.3724 - accuracy: 0.7801\n",
      "Epoch 82/150\n",
      "2/2 [==============================] - 0s 17ms/step - loss: 3.3724 - accuracy: 0.7801\n",
      "Epoch 83/150\n",
      "2/2 [==============================] - 0s 19ms/step - loss: 3.3724 - accuracy: 0.7801\n",
      "Epoch 84/150\n",
      "2/2 [==============================] - 0s 15ms/step - loss: 3.3724 - accuracy: 0.7801\n",
      "Epoch 85/150\n",
      "2/2 [==============================] - 0s 16ms/step - loss: 3.3724 - accuracy: 0.7801\n",
      "Epoch 86/150\n",
      "2/2 [==============================] - 0s 21ms/step - loss: 3.3724 - accuracy: 0.7801\n",
      "Epoch 87/150\n",
      "2/2 [==============================] - 0s 18ms/step - loss: 3.3724 - accuracy: 0.7801\n",
      "Epoch 88/150\n",
      "2/2 [==============================] - 0s 17ms/step - loss: 3.3724 - accuracy: 0.7801\n",
      "Epoch 89/150\n",
      "2/2 [==============================] - 0s 16ms/step - loss: 3.3724 - accuracy: 0.7801\n",
      "Epoch 90/150\n",
      "2/2 [==============================] - 0s 16ms/step - loss: 3.3724 - accuracy: 0.7801\n",
      "Epoch 91/150\n",
      "2/2 [==============================] - 0s 20ms/step - loss: 3.3724 - accuracy: 0.7801\n",
      "Epoch 92/150\n",
      "2/2 [==============================] - 0s 17ms/step - loss: 3.3724 - accuracy: 0.7801\n",
      "Epoch 93/150\n",
      "2/2 [==============================] - 0s 18ms/step - loss: 3.3724 - accuracy: 0.7801\n",
      "Epoch 94/150\n",
      "2/2 [==============================] - 0s 17ms/step - loss: 3.3724 - accuracy: 0.7801\n",
      "Epoch 95/150\n",
      "2/2 [==============================] - 0s 16ms/step - loss: 3.3724 - accuracy: 0.7801\n",
      "Epoch 96/150\n",
      "2/2 [==============================] - 0s 17ms/step - loss: 3.3724 - accuracy: 0.7801\n",
      "Epoch 97/150\n",
      "2/2 [==============================] - 0s 15ms/step - loss: 3.3724 - accuracy: 0.7801\n",
      "Epoch 98/150\n",
      "2/2 [==============================] - 0s 16ms/step - loss: 3.3724 - accuracy: 0.7801\n",
      "Epoch 99/150\n",
      "2/2 [==============================] - 0s 18ms/step - loss: 3.3724 - accuracy: 0.7801\n",
      "Epoch 100/150\n",
      "2/2 [==============================] - 0s 18ms/step - loss: 3.3724 - accuracy: 0.7801\n",
      "Epoch 101/150\n",
      "2/2 [==============================] - 0s 16ms/step - loss: 3.3724 - accuracy: 0.7801\n",
      "Epoch 102/150\n",
      "2/2 [==============================] - 0s 17ms/step - loss: 3.3724 - accuracy: 0.7801\n",
      "Epoch 103/150\n",
      "2/2 [==============================] - 0s 16ms/step - loss: 3.3724 - accuracy: 0.7801\n",
      "Epoch 104/150\n",
      "2/2 [==============================] - 0s 19ms/step - loss: 3.3724 - accuracy: 0.7801\n",
      "Epoch 105/150\n",
      "2/2 [==============================] - 0s 17ms/step - loss: 3.3724 - accuracy: 0.7801\n",
      "Epoch 106/150\n",
      "2/2 [==============================] - 0s 16ms/step - loss: 3.3724 - accuracy: 0.7801\n",
      "Epoch 107/150\n",
      "2/2 [==============================] - 0s 16ms/step - loss: 3.3724 - accuracy: 0.7801\n",
      "Epoch 108/150\n",
      "2/2 [==============================] - 0s 15ms/step - loss: 3.3724 - accuracy: 0.7801\n",
      "Epoch 109/150\n",
      "2/2 [==============================] - 0s 18ms/step - loss: 3.3724 - accuracy: 0.7801\n",
      "Epoch 110/150\n",
      "2/2 [==============================] - 0s 17ms/step - loss: 3.3724 - accuracy: 0.7801\n",
      "Epoch 111/150\n",
      "2/2 [==============================] - 0s 15ms/step - loss: 3.3724 - accuracy: 0.7801\n",
      "Epoch 112/150\n",
      "2/2 [==============================] - 0s 18ms/step - loss: 3.3724 - accuracy: 0.7801\n",
      "Epoch 113/150\n",
      "2/2 [==============================] - 0s 15ms/step - loss: 3.3724 - accuracy: 0.7801\n",
      "Epoch 114/150\n",
      "2/2 [==============================] - 0s 17ms/step - loss: 3.3724 - accuracy: 0.7801\n",
      "Epoch 115/150\n",
      "2/2 [==============================] - 0s 18ms/step - loss: 3.3724 - accuracy: 0.7801\n",
      "Epoch 116/150\n",
      "2/2 [==============================] - 0s 16ms/step - loss: 3.3724 - accuracy: 0.7801\n",
      "Epoch 117/150\n",
      "2/2 [==============================] - 0s 17ms/step - loss: 3.3724 - accuracy: 0.7801\n",
      "Epoch 118/150\n",
      "2/2 [==============================] - 0s 17ms/step - loss: 3.3724 - accuracy: 0.7801\n",
      "Epoch 119/150\n",
      "2/2 [==============================] - 0s 17ms/step - loss: 3.3724 - accuracy: 0.7801\n",
      "Epoch 120/150\n",
      "2/2 [==============================] - 0s 17ms/step - loss: 3.3724 - accuracy: 0.7801\n",
      "Epoch 121/150\n",
      "2/2 [==============================] - 0s 18ms/step - loss: 3.3724 - accuracy: 0.7801\n",
      "Epoch 122/150\n",
      "2/2 [==============================] - 0s 17ms/step - loss: 3.3724 - accuracy: 0.7801\n",
      "Epoch 123/150\n",
      "2/2 [==============================] - 0s 16ms/step - loss: 3.3724 - accuracy: 0.7801\n",
      "Epoch 124/150\n",
      "2/2 [==============================] - 0s 16ms/step - loss: 3.3724 - accuracy: 0.7801\n",
      "Epoch 125/150\n",
      "2/2 [==============================] - 0s 18ms/step - loss: 3.3724 - accuracy: 0.7801\n",
      "Epoch 126/150\n",
      "2/2 [==============================] - 0s 18ms/step - loss: 3.3724 - accuracy: 0.7801\n",
      "Epoch 127/150\n",
      "2/2 [==============================] - 0s 19ms/step - loss: 3.3724 - accuracy: 0.7801\n",
      "Epoch 128/150\n",
      "2/2 [==============================] - 0s 17ms/step - loss: 3.3724 - accuracy: 0.7801\n",
      "Epoch 129/150\n",
      "2/2 [==============================] - 0s 19ms/step - loss: 3.3724 - accuracy: 0.7801\n",
      "Epoch 130/150\n",
      "2/2 [==============================] - 0s 17ms/step - loss: 3.3724 - accuracy: 0.7801\n",
      "Epoch 131/150\n",
      "2/2 [==============================] - 0s 17ms/step - loss: 3.3724 - accuracy: 0.7801\n",
      "Epoch 132/150\n",
      "2/2 [==============================] - 0s 21ms/step - loss: 3.3724 - accuracy: 0.7801\n",
      "Epoch 133/150\n",
      "2/2 [==============================] - 0s 18ms/step - loss: 3.3724 - accuracy: 0.7801\n",
      "Epoch 134/150\n",
      "2/2 [==============================] - 0s 17ms/step - loss: 3.3724 - accuracy: 0.7801\n",
      "Epoch 135/150\n",
      "2/2 [==============================] - 0s 17ms/step - loss: 3.3724 - accuracy: 0.7801\n",
      "Epoch 136/150\n",
      "2/2 [==============================] - 0s 17ms/step - loss: 3.3724 - accuracy: 0.7801\n",
      "Epoch 137/150\n",
      "2/2 [==============================] - 0s 21ms/step - loss: 3.3724 - accuracy: 0.7801\n",
      "Epoch 138/150\n",
      "2/2 [==============================] - 0s 17ms/step - loss: 3.3724 - accuracy: 0.7801\n",
      "Epoch 139/150\n",
      "2/2 [==============================] - 0s 16ms/step - loss: 3.3724 - accuracy: 0.7801\n",
      "Epoch 140/150\n",
      "2/2 [==============================] - 0s 17ms/step - loss: 3.3724 - accuracy: 0.7801\n",
      "Epoch 141/150\n",
      "2/2 [==============================] - 0s 14ms/step - loss: 3.3724 - accuracy: 0.7801\n",
      "Epoch 142/150\n",
      "2/2 [==============================] - 0s 17ms/step - loss: 3.3724 - accuracy: 0.7801\n",
      "Epoch 143/150\n",
      "2/2 [==============================] - 0s 15ms/step - loss: 3.3724 - accuracy: 0.7801\n",
      "Epoch 144/150\n",
      "2/2 [==============================] - 0s 20ms/step - loss: 3.3724 - accuracy: 0.7801\n",
      "Epoch 145/150\n",
      "2/2 [==============================] - 0s 18ms/step - loss: 3.3724 - accuracy: 0.7801\n",
      "Epoch 146/150\n",
      "2/2 [==============================] - 0s 17ms/step - loss: 3.3724 - accuracy: 0.7801\n",
      "Epoch 147/150\n",
      "2/2 [==============================] - 0s 16ms/step - loss: 3.3724 - accuracy: 0.7801\n",
      "Epoch 148/150\n",
      "2/2 [==============================] - 0s 16ms/step - loss: 3.3724 - accuracy: 0.7801\n",
      "Epoch 149/150\n",
      "2/2 [==============================] - 0s 21ms/step - loss: 3.3724 - accuracy: 0.7801\n",
      "Epoch 150/150\n",
      "2/2 [==============================] - 0s 19ms/step - loss: 3.3724 - accuracy: 0.7801\n"
     ]
    },
    {
     "data": {
      "text/plain": [
       "<keras.callbacks.History at 0x7fe4002b5a90>"
      ]
     },
     "execution_count": 27,
     "metadata": {},
     "output_type": "execute_result"
    }
   ],
   "source": [
    "model.fit(x_train, y_train, batch_size=500, epochs=150)"
   ]
  },
  {
   "cell_type": "code",
   "execution_count": 28,
   "metadata": {},
   "outputs": [],
   "source": [
    "del(x_train)\n",
    "del(y_train)"
   ]
  },
  {
   "cell_type": "markdown",
   "metadata": {},
   "source": [
    "Prediction"
   ]
  },
  {
   "cell_type": "code",
   "execution_count": 29,
   "metadata": {},
   "outputs": [],
   "source": [
    "def prediction(row):\n",
    "    if row.Sex == 'female':\n",
    "        Sex = 1.\n",
    "    elif row.Sex == 'male':\n",
    "        Sex = 0.\n",
    "    else:\n",
    "        Sex = randint(0,1)*1.\n",
    "    if row.Age == None:\n",
    "        Age = randint(0,100)*0.01\n",
    "    else:\n",
    "        Age = row.Age*0.01\n",
    "\n",
    "    p = model.predict([(Sex, Age)])[0]\n",
    "\n",
    "    if p[0] > p[1]:\n",
    "        return 0\n",
    "    else:\n",
    "        return 1"
   ]
  },
  {
   "cell_type": "code",
   "execution_count": 30,
   "metadata": {},
   "outputs": [],
   "source": [
    "test_df = spark.read.option(\"inferSchema\", True)\\\n",
    "    .option(\"header\", True)\\\n",
    "    .csv('./input/titanic/test.csv')\n",
    "    #for production: '../input/titanic/test.csv'"
   ]
  },
  {
   "cell_type": "code",
   "execution_count": 31,
   "metadata": {},
   "outputs": [],
   "source": [
    "output_df = spark.createDataFrame(spark.sparkContext.parallelize([]), StructType([\n",
    "    StructField('PassengerId', IntegerType(), True),\n",
    "    StructField('Survived', IntegerType(), True)\n",
    "]))"
   ]
  },
  {
   "cell_type": "code",
   "execution_count": 32,
   "metadata": {},
   "outputs": [],
   "source": [
    "for row in test_df.collect():\n",
    "    output_df = output_df.union(spark.sparkContext.parallelize([(row.PassengerId, prediction(row))]).toDF(['PassengerId', 'Survived']))"
   ]
  },
  {
   "cell_type": "markdown",
   "metadata": {},
   "source": [
    "Output"
   ]
  },
  {
   "cell_type": "code",
   "execution_count": 33,
   "metadata": {},
   "outputs": [],
   "source": [
    "output_df.toPandas().to_csv('./submission.csv', index=False)"
   ]
  }
 ],
 "metadata": {
  "interpreter": {
   "hash": "5a6ca2cce8f356657e156b14f90a398073c8cb20ef4c4c6a4e9a41bb43d2ba10"
  },
  "kernelspec": {
   "display_name": "Python 3.7.10 64-bit ('py37': conda)",
   "language": "python",
   "name": "python3"
  },
  "language_info": {
   "codemirror_mode": {
    "name": "ipython",
    "version": 3
   },
   "file_extension": ".py",
   "mimetype": "text/x-python",
   "name": "python",
   "nbconvert_exporter": "python",
   "pygments_lexer": "ipython3",
   "version": "3.7.10"
  },
  "orig_nbformat": 4
 },
 "nbformat": 4,
 "nbformat_minor": 2
}
