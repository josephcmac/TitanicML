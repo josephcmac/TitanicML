{
 "cells": [
  {
   "cell_type": "code",
   "execution_count": 1,
   "metadata": {},
   "outputs": [],
   "source": [
    "from pyspark.sql import SparkSession\n",
    "from random import randint\n",
    "from pyspark.sql.types import IntegerType, StructField, StructType\n",
    "import pyspark.sql.functions as F\n",
    "from tensorflow.keras.utils import to_categorical\n",
    "from keras.models import Sequential\n",
    "from keras.layers import Dense, BatchNormalization\n",
    "from keras.layers.advanced_activations import LeakyReLU\n",
    "import numpy as np"
   ]
  },
  {
   "cell_type": "code",
   "execution_count": 2,
   "metadata": {},
   "outputs": [],
   "source": [
    "import os\n",
    "import sys\n",
    "\n",
    "os.environ['PYSPARK_PYTHON'] = sys.executable"
   ]
  },
  {
   "cell_type": "code",
   "execution_count": 3,
   "metadata": {},
   "outputs": [],
   "source": [
    "spark = SparkSession.builder.appName('SparkTitanic.com').getOrCreate()"
   ]
  },
  {
   "cell_type": "markdown",
   "metadata": {},
   "source": [
    "Reading the data"
   ]
  },
  {
   "cell_type": "code",
   "execution_count": 4,
   "metadata": {},
   "outputs": [],
   "source": [
    "train_df = spark.read.option(\"inferSchema\", True)\\\n",
    "    .option(\"header\", True)\\\n",
    "    .csv('./input/titanic/train.csv')\n",
    "    #for production: '../input/titanic/train.csv'"
   ]
  },
  {
   "cell_type": "markdown",
   "metadata": {},
   "source": [
    "Cleaning the data"
   ]
  },
  {
   "cell_type": "code",
   "execution_count": 5,
   "metadata": {},
   "outputs": [],
   "source": [
    "train_df = train_df.select(\"Sex\", \"Age\", \"Survived\")"
   ]
  },
  {
   "cell_type": "code",
   "execution_count": 6,
   "metadata": {},
   "outputs": [],
   "source": [
    "train_df = train_df.where(train_df[\"Age\"].isNotNull())"
   ]
  },
  {
   "cell_type": "code",
   "execution_count": 7,
   "metadata": {},
   "outputs": [],
   "source": [
    "train_df = train_df.where(train_df[\"Sex\"].isNotNull())"
   ]
  },
  {
   "cell_type": "code",
   "execution_count": 8,
   "metadata": {},
   "outputs": [],
   "source": [
    "train_df = train_df.where(train_df[\"Survived\"].isNotNull())"
   ]
  },
  {
   "cell_type": "code",
   "execution_count": 9,
   "metadata": {},
   "outputs": [],
   "source": [
    "train_df = train_df.withColumn(\"Sex\", F.when(F.col(\"Sex\")==F.lit(\"male\"), 0.).otherwise(1.) )"
   ]
  },
  {
   "cell_type": "code",
   "execution_count": 10,
   "metadata": {},
   "outputs": [],
   "source": [
    "x_train = list(map(lambda x: list(x), train_df.select(\"Sex\", \"Age\").collect()))\n",
    "y_train = list(map(lambda x: list(x)[0], train_df.select(\"Survived\").collect()))\n"
   ]
  },
  {
   "cell_type": "code",
   "execution_count": 11,
   "metadata": {},
   "outputs": [],
   "source": [
    "del(train_df)"
   ]
  },
  {
   "cell_type": "code",
   "execution_count": 12,
   "metadata": {},
   "outputs": [],
   "source": [
    "for _ in range(500):\n",
    "    Sex = randint(0,1)\n",
    "    Age = randint(0,100)\n",
    "    prediction = 1 if ( (Sex == 1)|( (Sex == 0) & ( Age < 15 ) ) ) else 0\n",
    "    x_train.append( [Sex, Age] )\n",
    "    y_train.append( prediction )\n",
    "del(Sex)\n",
    "del(Age)\n",
    "del(prediction)"
   ]
  },
  {
   "cell_type": "code",
   "execution_count": 13,
   "metadata": {},
   "outputs": [],
   "source": [
    "x_train = np.array([[x[0], x[1]*0.01] for x in x_train], dtype=\"float32\")\n",
    "#normalization"
   ]
  },
  {
   "cell_type": "code",
   "execution_count": 14,
   "metadata": {},
   "outputs": [],
   "source": [
    "y_train = to_categorical(y_train,2)"
   ]
  },
  {
   "cell_type": "markdown",
   "metadata": {},
   "source": [
    "Training"
   ]
  },
  {
   "cell_type": "code",
   "execution_count": 15,
   "metadata": {},
   "outputs": [],
   "source": [
    "model = Sequential()"
   ]
  },
  {
   "cell_type": "code",
   "execution_count": 16,
   "metadata": {},
   "outputs": [],
   "source": [
    "model.add(Dense(128, input_dim = 2))"
   ]
  },
  {
   "cell_type": "code",
   "execution_count": 17,
   "metadata": {},
   "outputs": [],
   "source": [
    "model.add(BatchNormalization(momentum=0.8))"
   ]
  },
  {
   "cell_type": "code",
   "execution_count": 18,
   "metadata": {},
   "outputs": [],
   "source": [
    "model.add(Dense(2084, activation='relu'))"
   ]
  },
  {
   "cell_type": "code",
   "execution_count": 19,
   "metadata": {},
   "outputs": [],
   "source": [
    "model.add(BatchNormalization(momentum=0.8))"
   ]
  },
  {
   "cell_type": "code",
   "execution_count": 20,
   "metadata": {},
   "outputs": [],
   "source": [
    "model.add(Dense(128))"
   ]
  },
  {
   "cell_type": "code",
   "execution_count": 21,
   "metadata": {},
   "outputs": [],
   "source": [
    "model.add(Dense(2084, activation='tanh'))"
   ]
  },
  {
   "cell_type": "code",
   "execution_count": 22,
   "metadata": {},
   "outputs": [],
   "source": [
    "model.add(BatchNormalization(momentum=0.8))"
   ]
  },
  {
   "cell_type": "code",
   "execution_count": 23,
   "metadata": {},
   "outputs": [],
   "source": [
    "model.add(Dense(128, activation='sigmoid'))"
   ]
  },
  {
   "cell_type": "code",
   "execution_count": 24,
   "metadata": {},
   "outputs": [],
   "source": [
    "model.add(Dense(512, activation='tanh'))"
   ]
  },
  {
   "cell_type": "code",
   "execution_count": 25,
   "metadata": {},
   "outputs": [],
   "source": [
    "model.add(BatchNormalization(momentum=0.8))"
   ]
  },
  {
   "cell_type": "code",
   "execution_count": 26,
   "metadata": {},
   "outputs": [],
   "source": [
    "model.add(Dense(128, activation='sigmoid'))"
   ]
  },
  {
   "cell_type": "code",
   "execution_count": 27,
   "metadata": {},
   "outputs": [],
   "source": [
    "model.add(Dense(2))"
   ]
  },
  {
   "cell_type": "code",
   "execution_count": 28,
   "metadata": {},
   "outputs": [],
   "source": [
    "model.compile(loss='binary_crossentropy', optimizer='adam', metrics=['accuracy'])"
   ]
  },
  {
   "cell_type": "code",
   "execution_count": 29,
   "metadata": {},
   "outputs": [
    {
     "name": "stdout",
     "output_type": "stream",
     "text": [
      "Epoch 1/150\n",
      "3/3 [==============================] - 1s 24ms/step - loss: 2.4998 - accuracy: 0.6606\n",
      "Epoch 2/150\n",
      "3/3 [==============================] - 0s 27ms/step - loss: 2.1395 - accuracy: 0.8369\n",
      "Epoch 3/150\n",
      "3/3 [==============================] - 0s 23ms/step - loss: 2.1399 - accuracy: 0.8369\n",
      "Epoch 4/150\n",
      "3/3 [==============================] - 0s 31ms/step - loss: 2.1214 - accuracy: 0.8369\n",
      "Epoch 5/150\n",
      "3/3 [==============================] - 0s 25ms/step - loss: 2.1302 - accuracy: 0.8369\n",
      "Epoch 6/150\n",
      "3/3 [==============================] - 0s 29ms/step - loss: 2.0798 - accuracy: 0.8369\n",
      "Epoch 7/150\n",
      "3/3 [==============================] - 0s 27ms/step - loss: 1.9120 - accuracy: 0.8369\n",
      "Epoch 8/150\n",
      "3/3 [==============================] - 0s 29ms/step - loss: 1.6511 - accuracy: 0.8369\n",
      "Epoch 9/150\n",
      "3/3 [==============================] - 0s 29ms/step - loss: 1.6894 - accuracy: 0.8369\n",
      "Epoch 10/150\n",
      "3/3 [==============================] - 0s 29ms/step - loss: 1.7789 - accuracy: 0.8369\n",
      "Epoch 11/150\n",
      "3/3 [==============================] - 0s 29ms/step - loss: 2.0576 - accuracy: 0.8369\n",
      "Epoch 12/150\n",
      "3/3 [==============================] - 0s 37ms/step - loss: 1.9123 - accuracy: 0.8369\n",
      "Epoch 13/150\n",
      "3/3 [==============================] - 0s 30ms/step - loss: 1.7705 - accuracy: 0.8369\n",
      "Epoch 14/150\n",
      "3/3 [==============================] - 0s 35ms/step - loss: 2.1431 - accuracy: 0.8369\n",
      "Epoch 15/150\n",
      "3/3 [==============================] - 0s 30ms/step - loss: 2.3884 - accuracy: 0.8369\n",
      "Epoch 16/150\n",
      "3/3 [==============================] - 0s 29ms/step - loss: 1.5159 - accuracy: 0.8369\n",
      "Epoch 17/150\n",
      "3/3 [==============================] - 0s 31ms/step - loss: 1.4694 - accuracy: 0.8369\n",
      "Epoch 18/150\n",
      "3/3 [==============================] - 0s 29ms/step - loss: 1.5001 - accuracy: 0.8369\n",
      "Epoch 19/150\n",
      "3/3 [==============================] - 0s 31ms/step - loss: 1.5255 - accuracy: 0.8369\n",
      "Epoch 20/150\n",
      "3/3 [==============================] - 0s 33ms/step - loss: 1.5250 - accuracy: 0.8369\n",
      "Epoch 21/150\n",
      "3/3 [==============================] - 0s 32ms/step - loss: 1.5101 - accuracy: 0.8369\n",
      "Epoch 22/150\n",
      "3/3 [==============================] - 0s 33ms/step - loss: 1.5001 - accuracy: 0.8369\n",
      "Epoch 23/150\n",
      "3/3 [==============================] - 0s 35ms/step - loss: 1.4881 - accuracy: 0.8369\n",
      "Epoch 24/150\n",
      "3/3 [==============================] - 0s 31ms/step - loss: 1.4733 - accuracy: 0.8369\n",
      "Epoch 25/150\n",
      "3/3 [==============================] - 0s 31ms/step - loss: 1.4614 - accuracy: 0.8369\n",
      "Epoch 26/150\n",
      "3/3 [==============================] - 0s 32ms/step - loss: 1.4516 - accuracy: 0.8369\n",
      "Epoch 27/150\n",
      "3/3 [==============================] - 0s 35ms/step - loss: 1.4449 - accuracy: 0.8369\n",
      "Epoch 28/150\n",
      "3/3 [==============================] - 0s 31ms/step - loss: 1.4447 - accuracy: 0.8369\n",
      "Epoch 29/150\n",
      "3/3 [==============================] - 0s 30ms/step - loss: 1.4482 - accuracy: 0.8369\n",
      "Epoch 30/150\n",
      "3/3 [==============================] - 0s 30ms/step - loss: 1.4463 - accuracy: 0.8369\n",
      "Epoch 31/150\n",
      "3/3 [==============================] - 0s 32ms/step - loss: 1.4449 - accuracy: 0.8369\n",
      "Epoch 32/150\n",
      "3/3 [==============================] - 0s 34ms/step - loss: 1.4444 - accuracy: 0.8369\n",
      "Epoch 33/150\n",
      "3/3 [==============================] - 0s 41ms/step - loss: 1.4434 - accuracy: 0.8369\n",
      "Epoch 34/150\n",
      "3/3 [==============================] - 0s 31ms/step - loss: 1.4434 - accuracy: 0.8369\n",
      "Epoch 35/150\n",
      "3/3 [==============================] - 0s 32ms/step - loss: 1.4398 - accuracy: 0.8369\n",
      "Epoch 36/150\n",
      "3/3 [==============================] - 0s 29ms/step - loss: 1.4396 - accuracy: 0.8369\n",
      "Epoch 37/150\n",
      "3/3 [==============================] - 0s 27ms/step - loss: 1.4388 - accuracy: 0.8369\n",
      "Epoch 38/150\n",
      "3/3 [==============================] - 0s 28ms/step - loss: 1.4371 - accuracy: 0.8369\n",
      "Epoch 39/150\n",
      "3/3 [==============================] - 0s 32ms/step - loss: 1.4374 - accuracy: 0.8369\n",
      "Epoch 40/150\n",
      "3/3 [==============================] - 0s 29ms/step - loss: 1.4374 - accuracy: 0.8369\n",
      "Epoch 41/150\n",
      "3/3 [==============================] - 0s 29ms/step - loss: 1.4353 - accuracy: 0.8369\n",
      "Epoch 42/150\n",
      "3/3 [==============================] - 0s 34ms/step - loss: 1.4332 - accuracy: 0.8369\n",
      "Epoch 43/150\n",
      "3/3 [==============================] - 0s 29ms/step - loss: 1.4324 - accuracy: 0.8369\n",
      "Epoch 44/150\n",
      "3/3 [==============================] - 0s 30ms/step - loss: 1.4383 - accuracy: 0.8369\n",
      "Epoch 45/150\n",
      "3/3 [==============================] - 0s 30ms/step - loss: 1.4324 - accuracy: 0.8369\n",
      "Epoch 46/150\n",
      "3/3 [==============================] - 0s 32ms/step - loss: 1.4305 - accuracy: 0.8369\n",
      "Epoch 47/150\n",
      "3/3 [==============================] - 0s 26ms/step - loss: 1.4317 - accuracy: 0.8369\n",
      "Epoch 48/150\n",
      "3/3 [==============================] - 0s 29ms/step - loss: 1.4369 - accuracy: 0.8369\n",
      "Epoch 49/150\n",
      "3/3 [==============================] - 0s 30ms/step - loss: 1.4307 - accuracy: 0.8369\n",
      "Epoch 50/150\n",
      "3/3 [==============================] - 0s 30ms/step - loss: 1.4343 - accuracy: 0.8369\n",
      "Epoch 51/150\n",
      "3/3 [==============================] - 0s 31ms/step - loss: 1.4398 - accuracy: 0.8369\n",
      "Epoch 52/150\n",
      "3/3 [==============================] - 0s 29ms/step - loss: 1.4388 - accuracy: 0.8369\n",
      "Epoch 53/150\n",
      "3/3 [==============================] - 0s 31ms/step - loss: 1.4331 - accuracy: 0.8369\n",
      "Epoch 54/150\n",
      "3/3 [==============================] - 0s 25ms/step - loss: 1.4330 - accuracy: 0.8369\n",
      "Epoch 55/150\n",
      "3/3 [==============================] - 0s 32ms/step - loss: 1.4364 - accuracy: 0.8369\n",
      "Epoch 56/150\n",
      "3/3 [==============================] - 0s 31ms/step - loss: 1.4402 - accuracy: 0.8369\n",
      "Epoch 57/150\n",
      "3/3 [==============================] - 0s 30ms/step - loss: 1.4374 - accuracy: 0.8369\n",
      "Epoch 58/150\n",
      "3/3 [==============================] - 0s 27ms/step - loss: 1.4437 - accuracy: 0.8369\n",
      "Epoch 59/150\n",
      "3/3 [==============================] - 0s 31ms/step - loss: 1.4391 - accuracy: 0.8369\n",
      "Epoch 60/150\n",
      "3/3 [==============================] - 0s 28ms/step - loss: 1.4377 - accuracy: 0.8369\n",
      "Epoch 61/150\n",
      "3/3 [==============================] - 0s 37ms/step - loss: 1.4389 - accuracy: 0.8369\n",
      "Epoch 62/150\n",
      "3/3 [==============================] - 0s 31ms/step - loss: 1.4398 - accuracy: 0.8369\n",
      "Epoch 63/150\n",
      "3/3 [==============================] - 0s 31ms/step - loss: 1.4317 - accuracy: 0.8369\n",
      "Epoch 64/150\n",
      "3/3 [==============================] - 0s 28ms/step - loss: 1.4341 - accuracy: 0.8369\n",
      "Epoch 65/150\n",
      "3/3 [==============================] - 0s 29ms/step - loss: 1.4337 - accuracy: 0.8369\n",
      "Epoch 66/150\n",
      "3/3 [==============================] - 0s 33ms/step - loss: 1.4330 - accuracy: 0.8369\n",
      "Epoch 67/150\n",
      "3/3 [==============================] - 0s 31ms/step - loss: 1.4310 - accuracy: 0.8369\n",
      "Epoch 68/150\n",
      "3/3 [==============================] - 0s 31ms/step - loss: 1.4323 - accuracy: 0.8369\n",
      "Epoch 69/150\n",
      "3/3 [==============================] - 0s 27ms/step - loss: 1.5170 - accuracy: 0.8369\n",
      "Epoch 70/150\n",
      "3/3 [==============================] - 0s 28ms/step - loss: 1.5897 - accuracy: 0.8369\n",
      "Epoch 71/150\n",
      "3/3 [==============================] - 0s 32ms/step - loss: 1.5760 - accuracy: 0.8369\n",
      "Epoch 72/150\n",
      "3/3 [==============================] - 0s 27ms/step - loss: 1.5165 - accuracy: 0.8369\n",
      "Epoch 73/150\n",
      "3/3 [==============================] - 0s 32ms/step - loss: 1.5256 - accuracy: 0.8369\n",
      "Epoch 74/150\n",
      "3/3 [==============================] - 0s 27ms/step - loss: 3.8679 - accuracy: 0.8369\n",
      "Epoch 75/150\n",
      "3/3 [==============================] - 0s 31ms/step - loss: 7.2514 - accuracy: 0.8278\n",
      "Epoch 76/150\n",
      "3/3 [==============================] - 0s 31ms/step - loss: 6.9262 - accuracy: 0.8369\n",
      "Epoch 77/150\n",
      "3/3 [==============================] - 0s 28ms/step - loss: 6.5825 - accuracy: 0.8369\n",
      "Epoch 78/150\n",
      "3/3 [==============================] - 0s 31ms/step - loss: 3.9399 - accuracy: 0.8369\n",
      "Epoch 79/150\n",
      "3/3 [==============================] - 0s 30ms/step - loss: 2.2397 - accuracy: 0.8369\n",
      "Epoch 80/150\n",
      "3/3 [==============================] - 0s 34ms/step - loss: 2.1142 - accuracy: 0.8369\n",
      "Epoch 81/150\n",
      "3/3 [==============================] - 0s 27ms/step - loss: 2.1010 - accuracy: 0.8369\n",
      "Epoch 82/150\n",
      "3/3 [==============================] - 0s 32ms/step - loss: 1.9458 - accuracy: 0.8369\n",
      "Epoch 83/150\n",
      "3/3 [==============================] - 0s 31ms/step - loss: 1.9184 - accuracy: 0.8369\n",
      "Epoch 84/150\n",
      "3/3 [==============================] - 0s 29ms/step - loss: 1.8646 - accuracy: 0.8369\n",
      "Epoch 85/150\n",
      "3/3 [==============================] - 0s 27ms/step - loss: 1.8388 - accuracy: 0.8369\n",
      "Epoch 86/150\n",
      "3/3 [==============================] - 0s 34ms/step - loss: 1.8124 - accuracy: 0.8369\n",
      "Epoch 87/150\n",
      "3/3 [==============================] - 0s 32ms/step - loss: 1.7985 - accuracy: 0.8369\n",
      "Epoch 88/150\n",
      "3/3 [==============================] - 0s 29ms/step - loss: 1.7925 - accuracy: 0.8369\n",
      "Epoch 89/150\n",
      "3/3 [==============================] - 0s 31ms/step - loss: 1.7864 - accuracy: 0.8369\n",
      "Epoch 90/150\n",
      "3/3 [==============================] - 0s 32ms/step - loss: 1.7837 - accuracy: 0.8369\n",
      "Epoch 91/150\n",
      "3/3 [==============================] - 0s 28ms/step - loss: 1.7786 - accuracy: 0.8369\n",
      "Epoch 92/150\n",
      "3/3 [==============================] - 0s 29ms/step - loss: 1.7769 - accuracy: 0.8369\n",
      "Epoch 93/150\n",
      "3/3 [==============================] - 0s 32ms/step - loss: 1.7736 - accuracy: 0.8369\n",
      "Epoch 94/150\n",
      "3/3 [==============================] - 0s 27ms/step - loss: 1.7729 - accuracy: 0.8369\n",
      "Epoch 95/150\n",
      "3/3 [==============================] - 0s 32ms/step - loss: 1.7686 - accuracy: 0.8369\n",
      "Epoch 96/150\n",
      "3/3 [==============================] - 0s 28ms/step - loss: 1.7667 - accuracy: 0.8369\n",
      "Epoch 97/150\n",
      "3/3 [==============================] - 0s 31ms/step - loss: 1.7684 - accuracy: 0.8369\n",
      "Epoch 98/150\n",
      "3/3 [==============================] - 0s 27ms/step - loss: 1.7633 - accuracy: 0.8369\n",
      "Epoch 99/150\n",
      "3/3 [==============================] - 0s 32ms/step - loss: 1.7660 - accuracy: 0.8369\n",
      "Epoch 100/150\n",
      "3/3 [==============================] - 0s 27ms/step - loss: 1.7691 - accuracy: 0.8369\n",
      "Epoch 101/150\n",
      "3/3 [==============================] - 0s 32ms/step - loss: 1.7617 - accuracy: 0.8369\n",
      "Epoch 102/150\n",
      "3/3 [==============================] - 0s 32ms/step - loss: 1.7632 - accuracy: 0.8369\n",
      "Epoch 103/150\n",
      "3/3 [==============================] - 0s 30ms/step - loss: 1.7625 - accuracy: 0.8369\n",
      "Epoch 104/150\n",
      "3/3 [==============================] - 0s 30ms/step - loss: 1.7660 - accuracy: 0.8369\n",
      "Epoch 105/150\n",
      "3/3 [==============================] - 0s 32ms/step - loss: 1.7716 - accuracy: 0.8369\n",
      "Epoch 106/150\n",
      "3/3 [==============================] - 0s 30ms/step - loss: 1.7659 - accuracy: 0.8369\n",
      "Epoch 107/150\n",
      "3/3 [==============================] - 0s 30ms/step - loss: 1.7644 - accuracy: 0.8369\n",
      "Epoch 108/150\n",
      "3/3 [==============================] - 0s 34ms/step - loss: 1.7637 - accuracy: 0.8369\n",
      "Epoch 109/150\n",
      "3/3 [==============================] - 0s 28ms/step - loss: 1.7681 - accuracy: 0.8369\n",
      "Epoch 110/150\n",
      "3/3 [==============================] - 0s 32ms/step - loss: 1.7632 - accuracy: 0.8369\n",
      "Epoch 111/150\n",
      "3/3 [==============================] - 0s 29ms/step - loss: 1.7623 - accuracy: 0.8369\n",
      "Epoch 112/150\n",
      "3/3 [==============================] - 0s 38ms/step - loss: 1.7630 - accuracy: 0.8369\n",
      "Epoch 113/150\n",
      "3/3 [==============================] - 0s 28ms/step - loss: 1.7646 - accuracy: 0.8369\n",
      "Epoch 114/150\n",
      "3/3 [==============================] - 0s 28ms/step - loss: 1.7621 - accuracy: 0.8369\n",
      "Epoch 115/150\n",
      "3/3 [==============================] - 0s 33ms/step - loss: 1.7646 - accuracy: 0.8369\n",
      "Epoch 116/150\n",
      "3/3 [==============================] - 0s 29ms/step - loss: 1.7680 - accuracy: 0.8369\n",
      "Epoch 117/150\n",
      "3/3 [==============================] - 0s 28ms/step - loss: 1.7704 - accuracy: 0.8369\n",
      "Epoch 118/150\n",
      "3/3 [==============================] - 0s 32ms/step - loss: 1.7658 - accuracy: 0.8369\n",
      "Epoch 119/150\n",
      "3/3 [==============================] - 0s 33ms/step - loss: 1.7652 - accuracy: 0.8369\n",
      "Epoch 120/150\n",
      "3/3 [==============================] - 0s 29ms/step - loss: 1.7624 - accuracy: 0.8369\n",
      "Epoch 121/150\n",
      "3/3 [==============================] - 0s 33ms/step - loss: 1.7631 - accuracy: 0.8369\n",
      "Epoch 122/150\n",
      "3/3 [==============================] - 0s 31ms/step - loss: 1.7625 - accuracy: 0.8369\n",
      "Epoch 123/150\n",
      "3/3 [==============================] - 0s 32ms/step - loss: 1.7708 - accuracy: 0.8369\n",
      "Epoch 124/150\n",
      "3/3 [==============================] - 0s 33ms/step - loss: 1.7629 - accuracy: 0.8369\n",
      "Epoch 125/150\n",
      "3/3 [==============================] - 0s 28ms/step - loss: 1.7662 - accuracy: 0.8369\n",
      "Epoch 126/150\n",
      "3/3 [==============================] - 0s 32ms/step - loss: 1.7609 - accuracy: 0.8369\n",
      "Epoch 127/150\n",
      "3/3 [==============================] - 0s 27ms/step - loss: 1.7647 - accuracy: 0.8369\n",
      "Epoch 128/150\n",
      "3/3 [==============================] - 0s 30ms/step - loss: 1.7650 - accuracy: 0.8369\n",
      "Epoch 129/150\n",
      "3/3 [==============================] - 0s 27ms/step - loss: 1.7674 - accuracy: 0.8369\n",
      "Epoch 130/150\n",
      "3/3 [==============================] - 0s 31ms/step - loss: 1.7908 - accuracy: 0.8369\n",
      "Epoch 131/150\n",
      "3/3 [==============================] - 0s 32ms/step - loss: 1.8459 - accuracy: 0.8369\n",
      "Epoch 132/150\n",
      "3/3 [==============================] - 0s 30ms/step - loss: 1.8088 - accuracy: 0.8369\n",
      "Epoch 133/150\n",
      "3/3 [==============================] - 0s 28ms/step - loss: 1.8663 - accuracy: 0.8369\n",
      "Epoch 134/150\n",
      "3/3 [==============================] - 0s 28ms/step - loss: 2.1337 - accuracy: 0.8369\n",
      "Epoch 135/150\n",
      "3/3 [==============================] - 0s 34ms/step - loss: 2.1145 - accuracy: 0.8369\n",
      "Epoch 136/150\n",
      "3/3 [==============================] - 0s 32ms/step - loss: 2.0915 - accuracy: 0.8369\n",
      "Epoch 137/150\n",
      "3/3 [==============================] - 0s 34ms/step - loss: 2.0377 - accuracy: 0.8369\n",
      "Epoch 138/150\n",
      "3/3 [==============================] - 0s 31ms/step - loss: 1.9090 - accuracy: 0.8369\n",
      "Epoch 139/150\n",
      "3/3 [==============================] - 0s 33ms/step - loss: 1.8310 - accuracy: 0.8369\n",
      "Epoch 140/150\n",
      "3/3 [==============================] - 0s 31ms/step - loss: 1.7709 - accuracy: 0.8369\n",
      "Epoch 141/150\n",
      "3/3 [==============================] - 0s 32ms/step - loss: 1.7801 - accuracy: 0.8369\n",
      "Epoch 142/150\n",
      "3/3 [==============================] - 0s 32ms/step - loss: 1.7646 - accuracy: 0.8369\n",
      "Epoch 143/150\n",
      "3/3 [==============================] - 0s 31ms/step - loss: 1.7607 - accuracy: 0.8369\n",
      "Epoch 144/150\n",
      "3/3 [==============================] - 0s 29ms/step - loss: 1.7590 - accuracy: 0.8369\n",
      "Epoch 145/150\n",
      "3/3 [==============================] - 0s 30ms/step - loss: 1.7754 - accuracy: 0.8369\n",
      "Epoch 146/150\n",
      "3/3 [==============================] - 0s 33ms/step - loss: 1.7576 - accuracy: 0.8369\n",
      "Epoch 147/150\n",
      "3/3 [==============================] - 0s 30ms/step - loss: 1.7777 - accuracy: 0.8369\n",
      "Epoch 148/150\n",
      "3/3 [==============================] - 0s 27ms/step - loss: 1.7837 - accuracy: 0.8369\n",
      "Epoch 149/150\n",
      "3/3 [==============================] - 0s 31ms/step - loss: 1.7743 - accuracy: 0.8369\n",
      "Epoch 150/150\n",
      "3/3 [==============================] - 0s 28ms/step - loss: 1.7832 - accuracy: 0.8369\n"
     ]
    },
    {
     "data": {
      "text/plain": [
       "<keras.callbacks.History at 0x7f3ed0132b10>"
      ]
     },
     "execution_count": 29,
     "metadata": {},
     "output_type": "execute_result"
    }
   ],
   "source": [
    "model.fit(x_train, y_train, batch_size=500, epochs=150)"
   ]
  },
  {
   "cell_type": "code",
   "execution_count": 30,
   "metadata": {},
   "outputs": [],
   "source": [
    "del(x_train)\n",
    "del(y_train)"
   ]
  },
  {
   "cell_type": "markdown",
   "metadata": {},
   "source": [
    "Prediction"
   ]
  },
  {
   "cell_type": "code",
   "execution_count": 31,
   "metadata": {},
   "outputs": [],
   "source": [
    "def prediction(row):\n",
    "    if row.Sex == 'female':\n",
    "        Sex = 1.\n",
    "    elif row.Sex == 'male':\n",
    "        Sex = 0.\n",
    "    else:\n",
    "        Sex = randint(0,1)*1.\n",
    "    if row.Age == None:\n",
    "        Age = randint(0,100)*0.01\n",
    "    else:\n",
    "        Age = row.Age*0.01\n",
    "\n",
    "    p = model.predict([(Sex, Age)])[0]\n",
    "\n",
    "    if p[0] > p[1]:\n",
    "        return 0\n",
    "    else:\n",
    "        return 1"
   ]
  },
  {
   "cell_type": "code",
   "execution_count": 32,
   "metadata": {},
   "outputs": [],
   "source": [
    "test_df = spark.read.option(\"inferSchema\", True)\\\n",
    "    .option(\"header\", True)\\\n",
    "    .csv('./input/titanic/test.csv')\n",
    "    #for production: '../input/titanic/test.csv'"
   ]
  },
  {
   "cell_type": "code",
   "execution_count": 33,
   "metadata": {},
   "outputs": [],
   "source": [
    "output_df = spark.createDataFrame(spark.sparkContext.parallelize([]), StructType([\n",
    "    StructField('PassengerId', IntegerType(), True),\n",
    "    StructField('Survived', IntegerType(), True)\n",
    "]))"
   ]
  },
  {
   "cell_type": "code",
   "execution_count": 34,
   "metadata": {},
   "outputs": [],
   "source": [
    "for row in test_df.collect():\n",
    "    output_df = output_df.union(spark.sparkContext.parallelize([(row.PassengerId, prediction(row))]).toDF(['PassengerId', 'Survived']))"
   ]
  },
  {
   "cell_type": "markdown",
   "metadata": {},
   "source": [
    "Output"
   ]
  },
  {
   "cell_type": "code",
   "execution_count": 35,
   "metadata": {},
   "outputs": [],
   "source": [
    "output_df.toPandas().to_csv('./submission.csv', index=False)"
   ]
  },
  {
   "cell_type": "code",
   "execution_count": null,
   "metadata": {},
   "outputs": [],
   "source": []
  }
 ],
 "metadata": {
  "interpreter": {
   "hash": "5a6ca2cce8f356657e156b14f90a398073c8cb20ef4c4c6a4e9a41bb43d2ba10"
  },
  "kernelspec": {
   "display_name": "Python 3.7.10 64-bit ('py37': conda)",
   "language": "python",
   "name": "python3"
  },
  "language_info": {
   "codemirror_mode": {
    "name": "ipython",
    "version": 3
   },
   "file_extension": ".py",
   "mimetype": "text/x-python",
   "name": "python",
   "nbconvert_exporter": "python",
   "pygments_lexer": "ipython3",
   "version": "3.7.10"
  },
  "orig_nbformat": 4
 },
 "nbformat": 4,
 "nbformat_minor": 2
}
