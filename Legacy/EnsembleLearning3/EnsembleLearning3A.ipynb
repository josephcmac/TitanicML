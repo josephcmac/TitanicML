{
 "cells": [
  {
   "cell_type": "code",
   "execution_count": null,
   "metadata": {},
   "outputs": [],
   "source": [
    "from pyspark.sql import SparkSession\n",
    "from random import randint\n",
    "from pyspark.sql.types import IntegerType, StructField, StructType\n",
    "import pyspark.sql.functions as F\n",
    "from sklearn.ensemble import RandomForestClassifier\n",
    "import numpy as np\n",
    "from sklearn.metrics import accuracy_score\n",
    "#from sklearn.model_selection import train_test_split"
   ]
  },
  {
   "cell_type": "code",
   "execution_count": null,
   "metadata": {},
   "outputs": [],
   "source": [
    "import os\n",
    "import sys\n",
    "\n",
    "os.environ['PYSPARK_PYTHON'] = sys.executable"
   ]
  },
  {
   "cell_type": "code",
   "execution_count": null,
   "metadata": {},
   "outputs": [],
   "source": [
    "spark = SparkSession.builder.appName('SparkTitanic.com').getOrCreate()"
   ]
  },
  {
   "cell_type": "markdown",
   "metadata": {},
   "source": [
    "Reading the data"
   ]
  },
  {
   "cell_type": "code",
   "execution_count": null,
   "metadata": {},
   "outputs": [],
   "source": [
    "train_df = spark.read.option(\"inferSchema\", True)\\\n",
    "    .option(\"header\", True)\\\n",
    "    .csv('./input/titanic/train.csv')"
   ]
  },
  {
   "cell_type": "markdown",
   "metadata": {},
   "source": [
    "Cleaning the data"
   ]
  },
  {
   "cell_type": "code",
   "execution_count": null,
   "metadata": {},
   "outputs": [],
   "source": [
    "train_df = train_df.select(\"Pclass\", \"Sex\", \"SibSp\", \"Parch\", \"Survived\")\n",
    "train_df = train_df.where(train_df[\"Pclass\"].isNotNull())\n",
    "train_df = train_df.where(train_df[\"Sex\"].isNotNull())\n",
    "train_df = train_df.where(train_df[\"SibSp\"].isNotNull())\n",
    "train_df = train_df.where(train_df[\"Parch\"].isNotNull())\n",
    "train_df = train_df.where(train_df[\"Survived\"].isNotNull())\n",
    "train_df = train_df.withColumn(\"Sex\", F.when(F.col(\"Sex\")==F.lit(\"male\"), 0.).otherwise(1.) )"
   ]
  },
  {
   "cell_type": "code",
   "execution_count": null,
   "metadata": {},
   "outputs": [],
   "source": [
    "x_train = list(map(lambda x: list(x), train_df.select(\"Pclass\", \"Sex\", \"SibSp\", \"Parch\").collect()))"
   ]
  },
  {
   "cell_type": "code",
   "execution_count": null,
   "metadata": {},
   "outputs": [],
   "source": [
    "x_train = np.array([[(x[0]-1)/2, x[1], x[2], x[3]/5] for x in x_train], dtype=\"float32\")"
   ]
  },
  {
   "cell_type": "code",
   "execution_count": null,
   "metadata": {},
   "outputs": [],
   "source": [
    "y_train = list(map(lambda x: list(x)[0], train_df.select(\"Survived\").collect()))"
   ]
  },
  {
   "cell_type": "code",
   "execution_count": null,
   "metadata": {},
   "outputs": [],
   "source": [
    "#x_train, x_test, y_train, y_test = train_test_split(x_train, y_train, test_size=0.30, random_state=40)"
   ]
  },
  {
   "cell_type": "code",
   "execution_count": null,
   "metadata": {},
   "outputs": [],
   "source": [
    "model = RandomForestClassifier(n_estimators=100, max_depth=3, random_state=2)"
   ]
  },
  {
   "cell_type": "code",
   "execution_count": null,
   "metadata": {},
   "outputs": [],
   "source": [
    "model.fit(x_train, y_train)"
   ]
  },
  {
   "cell_type": "code",
   "execution_count": null,
   "metadata": {},
   "outputs": [],
   "source": [
    "#y_pred_test = model.predict(x_test)"
   ]
  },
  {
   "cell_type": "code",
   "execution_count": null,
   "metadata": {},
   "outputs": [],
   "source": [
    "#accuracy_score(y_test, y_pred_test)"
   ]
  },
  {
   "cell_type": "markdown",
   "metadata": {},
   "source": [
    "Prediction"
   ]
  },
  {
   "cell_type": "code",
   "execution_count": null,
   "metadata": {},
   "outputs": [],
   "source": [
    "def prediction(row): #\"Pclass\", \"Sex\", \"SibSp\", \"Parch\"\n",
    "    Pclass = row.Pclass\n",
    "    if Pclass == None:\n",
    "        Pclass = randint(0,2)\n",
    "    Pclass = (Pclass-1)/2\n",
    "\n",
    "    if row.Sex == 'female':\n",
    "        Sex = 1.\n",
    "    elif row.Sex == 'male':\n",
    "        Sex = 0.\n",
    "    else:\n",
    "        Sex = randint(0,1)*1.\n",
    "\n",
    "    SibSp = row.SibSp\n",
    "    if SibSp == None:\n",
    "        SibSp = randint(0,1)\n",
    "    \n",
    "    Parch = row.Parch\n",
    "    if Parch == None:\n",
    "        Parch = randint(0,2)\n",
    "    Parch = (Parch-1)/2\n",
    "\n",
    "    p = model.predict([ [Pclass, Sex, SibSp, Parch] ])[0]\n",
    "    return int(p)"
   ]
  },
  {
   "cell_type": "code",
   "execution_count": null,
   "metadata": {},
   "outputs": [],
   "source": [
    "test_df = spark.read.option(\"inferSchema\", True)\\\n",
    "    .option(\"header\", True)\\\n",
    "    .csv('./input/titanic/test.csv')"
   ]
  },
  {
   "cell_type": "code",
   "execution_count": null,
   "metadata": {},
   "outputs": [],
   "source": [
    "output_df = spark.createDataFrame(spark.sparkContext.parallelize([]), StructType([\n",
    "    StructField('PassengerId', IntegerType(), True),\n",
    "    StructField('Survived', IntegerType(), True)\n",
    "]))"
   ]
  },
  {
   "cell_type": "code",
   "execution_count": null,
   "metadata": {},
   "outputs": [],
   "source": [
    "for row in test_df.collect():\n",
    "    output_df = output_df.union( spark.sparkContext.parallelize([(row.PassengerId, prediction(row) )]).toDF(['PassengerId', 'Survived']) )"
   ]
  },
  {
   "cell_type": "markdown",
   "metadata": {},
   "source": [
    "Output"
   ]
  },
  {
   "cell_type": "code",
   "execution_count": null,
   "metadata": {},
   "outputs": [],
   "source": [
    "output_df.toPandas().to_csv('./componentA.csv', index=False)"
   ]
  },
  {
   "cell_type": "code",
   "execution_count": null,
   "metadata": {},
   "outputs": [],
   "source": []
  }
 ],
 "metadata": {
  "interpreter": {
   "hash": "5a6ca2cce8f356657e156b14f90a398073c8cb20ef4c4c6a4e9a41bb43d2ba10"
  },
  "kernelspec": {
   "display_name": "Python 3.7.10 64-bit ('py37': conda)",
   "language": "python",
   "name": "python3"
  },
  "language_info": {
   "codemirror_mode": {
    "name": "ipython",
    "version": 3
   },
   "file_extension": ".py",
   "mimetype": "text/x-python",
   "name": "python",
   "nbconvert_exporter": "python",
   "pygments_lexer": "ipython3",
   "version": "3.7.11"
  },
  "orig_nbformat": 4
 },
 "nbformat": 4,
 "nbformat_minor": 2
}
